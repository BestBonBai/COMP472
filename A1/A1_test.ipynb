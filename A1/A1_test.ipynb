{
 "cells": [
  {
   "cell_type": "markdown",
   "id": "ce0c215e",
   "metadata": {},
   "source": [
    "### Matplotlib\n",
    "- test plot \n",
    "- import numpy and matplotlib"
   ]
  },
  {
   "cell_type": "code",
   "execution_count": 1,
   "id": "320d062a",
   "metadata": {},
   "outputs": [],
   "source": [
    "import numpy as np\n",
    "import matplotlib.pyplot as plt\n",
    "import matplotlib.patches as mpatches\n",
    "from grid import Grid "
   ]
  },
  {
   "cell_type": "markdown",
   "id": "d5d7e364",
   "metadata": {},
   "source": [
    "2 ways: Draw grids => plt. or ax."
   ]
  },
  {
   "cell_type": "code",
   "execution_count": 43,
   "id": "1e33507a",
   "metadata": {},
   "outputs": [
    {
     "data": {
      "image/png": "[encoded data removed]",
      "text/plain": [
       "<Figure size 288x216 with 1 Axes>"
      ]
     },
     "metadata": {
      "needs_background": "light"
     },
     "output_type": "display_data"
    }
   ],
   "source": [
    "fig = plt.figure(num=1, figsize=(4,3))\n",
    "ax = fig.add_subplot(111)\n",
    "ax.plot([1,2,3,4],[1,2,3,4])\n",
    "plt.grid()\n",
    "plt.show()"
   ]
  },
  {
   "cell_type": "code",
   "execution_count": 8,
   "id": "a0c4dfd4",
   "metadata": {
    "scrolled": false
   },
   "outputs": [
    {
     "name": "stdout",
     "output_type": "stream",
     "text": [
      "[0.  0.2 0.4 0.6 0.8]\n",
      "[0.  0.1 0.2 0.3]\n",
      "[0.  0.2 0.4 0.6]\n",
      "[0.2 0.1 0. ]\n",
      "lst_grids check length\n",
      "12\n",
      "1 is place_q\n",
      "(0.0, 0.2)\n",
      "The neighbor grids are : [5, 2]\n",
      "2 is place_v\n",
      "(0.2, 0.2)\n",
      "The neighbor grids are : [6, 1, 3]\n",
      "3 is place_p\n",
      "(0.4, 0.2)\n",
      "The neighbor grids are : [7, 2, 4]\n",
      "4 is number\n",
      "(0.6, 0.2)\n",
      "The neighbor grids are : [8, 3]\n",
      "5 is place_v\n",
      "(0.0, 0.1)\n",
      "The neighbor grids are : [1, 9, 6]\n",
      "6 is number\n",
      "(0.2, 0.1)\n",
      "The neighbor grids are : [2, 10, 5, 7]\n",
      "7 is place_q\n",
      "(0.4, 0.1)\n",
      "The neighbor grids are : [3, 11, 6, 8]\n",
      "8 is number\n",
      "(0.6, 0.1)\n",
      "The neighbor grids are : [4, 12, 7]\n",
      "9 is place_p\n",
      "(0.0, 0.0)\n",
      "The neighbor grids are : [5, 10]\n",
      "10 is place_q\n",
      "(0.2, 0.0)\n",
      "The neighbor grids are : [6, 9, 11]\n",
      "11 is place_v\n",
      "(0.4, 0.0)\n",
      "The neighbor grids are : [7, 10, 12]\n",
      "12 is place_v\n",
      "(0.6, 0.0)\n",
      "The neighbor grids are : [8, 11]\n",
      "[6, 1, 3]\n"
     ]
    },
    {
     "data": {
      "image/png": "[encoded data removed]",
      "text/plain": [
       "<Figure size 720x360 with 1 Axes>"
      ]
     },
     "metadata": {
      "needs_background": "light"
     },
     "output_type": "display_data"
    }
   ],
   "source": [
    "fig, ax= plt.subplots(figsize=(10,5)) # set a 5X10 Canvas\n",
    "\n",
    "offset_y = 0.1 #for width * length = 0.1*0.2\n",
    "offset_x = 0.2\n",
    "row = 3\n",
    "column = 4\n",
    "ylim = row*offset_y\n",
    "xlim = column*offset_x\n",
    "# set the axis range\n",
    "ax.set_xlim(0,xlim)\n",
    "ax.set_ylim(0,ylim)\n",
    "\n",
    "# create the scales of the axis\n",
    "x_arr = np.linspace(0, xlim, column+1)\n",
    "y_arr = np.linspace(0, ylim, row+1)\n",
    "\n",
    "# test the values of X and Y axis\n",
    "print(x_arr)\n",
    "print(y_arr)\n",
    "\n",
    "#set axis scales\n",
    "ax.set_xticks(x_arr)\n",
    "ax.set_yticks(y_arr)\n",
    "\n",
    "# set title and axis-lables\n",
    "ax.set_xlabel(\"x-axis\")\n",
    "ax.set_ylabel(\"y-axis\")\n",
    "ax.set_title(\"COVID-19 Map: A* Search Algorithm\", fontsize=16, color='black', verticalalignment=\"baseline\")\n",
    "\n",
    "# set each grid's bottom-point for draw Rectangle\n",
    "num_grids = row*column\n",
    "x_rect_ptr_arr = np.round(x_arr[0:-1],1) # keep 0.1f\n",
    "y_rect_ptr_arr = np.round(y_arr[0:-1],1)\n",
    "# reverse y_rect_ptr_arr\n",
    "y_rect_ptr_arr = np.flip(y_rect_ptr_arr)\n",
    "print(x_rect_ptr_arr)\n",
    "print(y_rect_ptr_arr)\n",
    "\n",
    "lst_grids = []\n",
    "n=1\n",
    "# assign each grid's bottom-point\n",
    "for yi in y_rect_ptr_arr:\n",
    "    for xi in x_rect_ptr_arr:\n",
    "#         print(xi, yi)\n",
    "        lst_grids.append(Grid(xi,yi,n,row,column))\n",
    "        n += 1\n",
    "\n",
    "# for item in lst_grids:\n",
    "#     print(item.get_grid_num())\n",
    "#     print(item.get_bot_ptr())\n",
    "print(\"lst_grids check length\")\n",
    "print(len(lst_grids))\n",
    "\n",
    "q_arr = [1,7,10]\n",
    "v_arr = [2,5,11,12]\n",
    "p_arr = [3,9]\n",
    "\n",
    "# set each grid's type\n",
    "for qi in q_arr:\n",
    "    lst_grids[qi-1].set_type(\"place_q\")\n",
    "    \n",
    "for vi in v_arr:\n",
    "    lst_grids[vi-1].set_type(\"place_v\")\n",
    "    \n",
    "for pi in p_arr:\n",
    "    lst_grids[pi-1].set_type(\"place_p\")  \n",
    "    \n",
    "for item in lst_grids:\n",
    "    print(str(item.get_grid_num()) + \" is \" + str(item.get_type()))   \n",
    "    print(item.get_bot_ptr())\n",
    "    print(\"The neighbor grids are : \" + str(item.get_neighbors_num()))\n",
    "\n",
    "    \n",
    "print(lst_grids[1].get_neighbors_num())\n",
    "\n",
    "# set 3 types for each grid by user: \n",
    "# place_q(color:green): quarantine place, place_v(color: orange):vaccine spot, place_p(color: blue): playing ground\n",
    "\n",
    "\n",
    "#set different color for each grid\n",
    "# use Rectangle to draw each grid, xy is the bottom-left point of each grid\n",
    "for item in lst_grids:\n",
    "    if item.get_type() == \"place_q\":\n",
    "        rect = mpatches.Rectangle(item.get_bot_ptr(), offset_x, offset_y, edgecolor=\"black\", facecolor=\"g\")\n",
    "        ax.add_patch(rect)\n",
    "    elif item.get_type() == \"place_v\":\n",
    "        rect = mpatches.Rectangle(item.get_bot_ptr(), offset_x, offset_y, edgecolor=\"black\", facecolor=\"orange\")\n",
    "        ax.add_patch(rect)\n",
    "    elif item.get_type() == \"place_p\":\n",
    "        rect = mpatches.Rectangle(item.get_bot_ptr(), offset_x, offset_y, edgecolor=\"black\", facecolor=\"r\")\n",
    "        ax.add_patch(rect)\n",
    "    else: \n",
    "        pass\n",
    "    # add text in map for grid's number\n",
    "    ax.text(item.x + offset_x/2,item.y+offset_y/2,str(item.get_grid_num()), fontsize=12, color=\"k\", alpha=1)\n",
    "    \n",
    "    \n",
    "# set legend\n",
    "patch_q = mpatches.Patch(color='green', label='quarantine place')\n",
    "patch_v = mpatches.Patch(color='orange', label='vaccine spot')\n",
    "patch_p = mpatches.Patch(color='red', label='playing ground')\n",
    "plt.legend(handles=[patch_q, patch_v, patch_p], bbox_to_anchor=(1.05, 1.0), loc='upper left')\n",
    "plt.tight_layout()\n",
    "\n",
    "\n",
    "ax.grid(True)\n",
    "plt.show()"
   ]
  },
  {
   "cell_type": "code",
   "execution_count": null,
   "id": "1f64ed77",
   "metadata": {},
   "outputs": [],
   "source": [
    "\n"
   ]
  },
  {
   "cell_type": "markdown",
   "id": "113b8210",
   "metadata": {},
   "source": [
    "Using gridspec"
   ]
  },
  {
   "cell_type": "code",
   "execution_count": null,
   "id": "efa78e48",
   "metadata": {},
   "outputs": [],
   "source": []
  }
 ],
 "metadata": {
  "kernelspec": {
   "display_name": "Python 3",
   "language": "python",
   "name": "python3"
  },
  "language_info": {
   "codemirror_mode": {
    "name": "ipython",
    "version": 3
   },
   "file_extension": ".py",
   "mimetype": "text/x-python",
   "name": "python",
   "nbconvert_exporter": "python",
   "pygments_lexer": "ipython3",
   "version": "3.7.10"
  }
 },
 "nbformat": 4,
 "nbformat_minor": 5
}
